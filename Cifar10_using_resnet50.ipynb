{
  "nbformat": 4,
  "nbformat_minor": 0,
  "metadata": {
    "colab": {
      "name": "Cifar10 using resnet50.ipynb",
      "provenance": []
    },
    "kernelspec": {
      "name": "python3",
      "display_name": "Python 3"
    },
    "language_info": {
      "name": "python"
    },
    "accelerator": "GPU"
  },
  "cells": [
    {
      "cell_type": "code",
      "metadata": {
        "id": "zvcajsWBeZ8M"
      },
      "source": [
        "import tensorflow as tf\n",
        "import tensorflow_datasets as tfds\n",
        "import matplotlib.pyplot as plt\n",
        "%matplotlib inline"
      ],
      "execution_count": 1,
      "outputs": []
    },
    {
      "cell_type": "code",
      "metadata": {
        "id": "BC2n-4reqqA7"
      },
      "source": [
        "batch_size=32\n",
        "classes=['airplane', 'automobile', 'bird', 'cat', 'deer', 'dog', 'frog', 'horse', 'ship', 'truck']"
      ],
      "execution_count": 2,
      "outputs": []
    },
    {
      "cell_type": "code",
      "metadata": {
        "colab": {
          "base_uri": "https://localhost:8080/"
        },
        "id": "UmlGZ5m6qyOG",
        "outputId": "aed399c3-0ed9-4f6d-c271-e75478f2e992"
      },
      "source": [
        "(train_images,train_labels),(test_images,test_labels)=tf.keras.datasets.cifar10.load_data()"
      ],
      "execution_count": 3,
      "outputs": [
        {
          "output_type": "stream",
          "name": "stdout",
          "text": [
            "Downloading data from https://www.cs.toronto.edu/~kriz/cifar-10-python.tar.gz\n",
            "170500096/170498071 [==============================] - 6s 0us/step\n",
            "170508288/170498071 [==============================] - 6s 0us/step\n"
          ]
        }
      ]
    },
    {
      "cell_type": "code",
      "metadata": {
        "id": "XX2FcOc2rEH2"
      },
      "source": [
        "def img_process(img):\n",
        "  img=img.astype('float')\n",
        "  img=tf.keras.applications.resnet50.preprocess_input(img)\n",
        "  return img"
      ],
      "execution_count": 4,
      "outputs": []
    },
    {
      "cell_type": "code",
      "metadata": {
        "id": "Ef0pTEGQrxMZ"
      },
      "source": [
        "x_train=img_process(train_images)\n",
        "x_test=img_process(test_images)"
      ],
      "execution_count": 5,
      "outputs": []
    },
    {
      "cell_type": "code",
      "metadata": {
        "colab": {
          "base_uri": "https://localhost:8080/"
        },
        "id": "o34Bpx3fr76x",
        "outputId": "5fa54b84-edf8-43c4-826d-8e6ba3a9a667"
      },
      "source": [
        "print(\"Shape of X_train : \",x_train.shape)\n",
        "print(\"Shape of training_labels : \",train_labels.shape)\n",
        "print(\"Shape of X_val : \",x_test.shape)\n",
        "print(\"Shape of validation_labels : \",test_labels.shape)"
      ],
      "execution_count": 6,
      "outputs": [
        {
          "output_type": "stream",
          "name": "stdout",
          "text": [
            "Shape of X_train :  (50000, 32, 32, 3)\n",
            "Shape of training_labels :  (50000, 1)\n",
            "Shape of X_val :  (10000, 32, 32, 3)\n",
            "Shape of validation_labels :  (10000, 1)\n"
          ]
        }
      ]
    },
    {
      "cell_type": "code",
      "metadata": {
        "id": "P-1b-7mdsFSG"
      },
      "source": [
        "def predefine_model(inputs):\n",
        "  resnet=tf.keras.applications.resnet.ResNet50(include_top=False,weights='imagenet',input_shape=(224,224,3))\n",
        "  x=resnet(inputs)\n",
        "  return x"
      ],
      "execution_count": 7,
      "outputs": []
    },
    {
      "cell_type": "code",
      "metadata": {
        "id": "JX4WLe5Qst_e"
      },
      "source": [
        "def output_layer(inputs):\n",
        "  x=predefine_model(inputs)\n",
        "  x=tf.keras.layers.GlobalAveragePooling2D()(x)\n",
        "  x=tf.keras.layers.Flatten()(x)\n",
        "  x=tf.keras.layers.Dense(1024,activation='relu')(x)\n",
        "  x=tf.keras.layers.Dense(512,activation='relu')(x)\n",
        "  x=tf.keras.layers.Dense(10,activation='softmax',name='classification')(x)\n",
        "  return x"
      ],
      "execution_count": 8,
      "outputs": []
    },
    {
      "cell_type": "code",
      "metadata": {
        "id": "nYlty4yKtMYY"
      },
      "source": [
        "def get_model():\n",
        "  input=tf.keras.layers.Input(shape=(32,32,3))\n",
        "  x=tf.keras.layers.UpSampling2D(size=(7,7))(input)\n",
        "  x=output_layer(x)\n",
        "  model=tf.keras.models.Model(inputs=input,outputs=x)\n",
        "  model.compile(optimizer=tf.keras.optimizers.SGD(lr=0.01),loss=tf.keras.losses.sparse_categorical_crossentropy,metrics=['accuracy'])\n",
        "  return model"
      ],
      "execution_count": 15,
      "outputs": []
    },
    {
      "cell_type": "code",
      "metadata": {
        "colab": {
          "base_uri": "https://localhost:8080/"
        },
        "id": "ugMoEqtquBGF",
        "outputId": "4916a8be-30ad-492e-bc68-84ddf9f73387"
      },
      "source": [
        "model=get_model()"
      ],
      "execution_count": 16,
      "outputs": [
        {
          "output_type": "stream",
          "name": "stderr",
          "text": [
            "/usr/local/lib/python3.7/dist-packages/keras/optimizer_v2/optimizer_v2.py:356: UserWarning: The `lr` argument is deprecated, use `learning_rate` instead.\n",
            "  \"The `lr` argument is deprecated, use `learning_rate` instead.\")\n"
          ]
        }
      ]
    },
    {
      "cell_type": "code",
      "metadata": {
        "colab": {
          "base_uri": "https://localhost:8080/"
        },
        "id": "ucA_K1u0uDCd",
        "outputId": "a4253d31-5f36-4ac8-df08-c142c324cb2b"
      },
      "source": [
        "model.summary()"
      ],
      "execution_count": 17,
      "outputs": [
        {
          "output_type": "stream",
          "name": "stdout",
          "text": [
            "Model: \"model_1\"\n",
            "_________________________________________________________________\n",
            "Layer (type)                 Output Shape              Param #   \n",
            "=================================================================\n",
            "input_5 (InputLayer)         [(None, 32, 32, 3)]       0         \n",
            "_________________________________________________________________\n",
            "up_sampling2d_2 (UpSampling2 (None, 224, 224, 3)       0         \n",
            "_________________________________________________________________\n",
            "resnet50 (Functional)        (None, 7, 7, 2048)        23587712  \n",
            "_________________________________________________________________\n",
            "global_average_pooling2d_2 ( (None, 2048)              0         \n",
            "_________________________________________________________________\n",
            "flatten_2 (Flatten)          (None, 2048)              0         \n",
            "_________________________________________________________________\n",
            "dense_4 (Dense)              (None, 1024)              2098176   \n",
            "_________________________________________________________________\n",
            "dense_5 (Dense)              (None, 512)               524800    \n",
            "_________________________________________________________________\n",
            "classification (Dense)       (None, 10)                5130      \n",
            "=================================================================\n",
            "Total params: 26,215,818\n",
            "Trainable params: 26,162,698\n",
            "Non-trainable params: 53,120\n",
            "_________________________________________________________________\n"
          ]
        }
      ]
    },
    {
      "cell_type": "code",
      "metadata": {
        "colab": {
          "base_uri": "https://localhost:8080/"
        },
        "id": "yvtMc37HuEpA",
        "outputId": "ea18a5c6-61cf-48d2-ee77-5a698dfccf7b"
      },
      "source": [
        "history=model.fit(x_train,train_labels,epochs=4,batch_size=32,verbose=1,validation_data=(x_test,test_labels),validation_batch_size=32)"
      ],
      "execution_count": 18,
      "outputs": [
        {
          "output_type": "stream",
          "name": "stdout",
          "text": [
            "Epoch 1/4\n",
            "1563/1563 [==============================] - 1158s 719ms/step - loss: 0.3482 - accuracy: 0.8832 - val_loss: 0.1804 - val_accuracy: 0.9391\n",
            "Epoch 2/4\n",
            "1563/1563 [==============================] - 1121s 717ms/step - loss: 0.0965 - accuracy: 0.9675 - val_loss: 0.1538 - val_accuracy: 0.9500\n",
            "Epoch 3/4\n",
            "1563/1563 [==============================] - 1124s 719ms/step - loss: 0.0389 - accuracy: 0.9868 - val_loss: 0.1804 - val_accuracy: 0.9455\n",
            "Epoch 4/4\n",
            "1563/1563 [==============================] - 1121s 717ms/step - loss: 0.0207 - accuracy: 0.9936 - val_loss: 0.1521 - val_accuracy: 0.9565\n"
          ]
        }
      ]
    },
    {
      "cell_type": "code",
      "metadata": {
        "id": "ZDyDCiHuu8o9"
      },
      "source": [
        ""
      ],
      "execution_count": null,
      "outputs": []
    }
  ]
}